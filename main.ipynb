{
  "nbformat": 4,
  "nbformat_minor": 0,
  "metadata": {
    "colab": {
      "name": "main.ipynb",
      "provenance": [],
      "toc_visible": true,
      "mount_file_id": "1Mr8h6y8VpxaQS5Vip2-6nAdS6aaNzSkU",
      "authorship_tag": "ABX9TyO/ehctshb+ugOBI/8cYLsM",
      "include_colab_link": true
    },
    "kernelspec": {
      "name": "python3",
      "display_name": "Python 3"
    },
    "accelerator": "GPU"
  },
  "cells": [
    {
      "cell_type": "markdown",
      "metadata": {
        "id": "view-in-github",
        "colab_type": "text"
      },
      "source": [
        "<a href=\"https://colab.research.google.com/github/jinnyjinny/DogFaceClassification/blob/master/main.ipynb\" target=\"_parent\"><img src=\"https://colab.research.google.com/assets/colab-badge.svg\" alt=\"Open In Colab\"/></a>"
      ]
    },
    {
      "cell_type": "markdown",
      "metadata": {
        "id": "N0fyFG3nfV1l",
        "colab_type": "text"
      },
      "source": [
        "# Warning\n",
        "- Set GPU mode (not to process with CPU)"
      ]
    },
    {
      "cell_type": "markdown",
      "metadata": {
        "id": "ixlTsfUdgAGy",
        "colab_type": "text"
      },
      "source": [
        "# Dependency"
      ]
    },
    {
      "cell_type": "code",
      "metadata": {
        "id": "wyyfAHt6e8jf",
        "colab_type": "code",
        "colab": {
          "base_uri": "https://localhost:8080/",
          "height": 297
        },
        "outputId": "3154c19c-a3cc-4ea7-e49f-6f04dc492379"
      },
      "source": [
        "!pip install face_recognition"
      ],
      "execution_count": 1,
      "outputs": [
        {
          "output_type": "stream",
          "text": [
            "Collecting face_recognition\n",
            "  Downloading https://files.pythonhosted.org/packages/1e/95/f6c9330f54ab07bfa032bf3715c12455a381083125d8880c43cbe76bb3d0/face_recognition-1.3.0-py2.py3-none-any.whl\n",
            "Requirement already satisfied: Pillow in /usr/local/lib/python3.6/dist-packages (from face_recognition) (7.0.0)\n",
            "Collecting face-recognition-models>=0.3.0\n",
            "\u001b[?25l  Downloading https://files.pythonhosted.org/packages/cf/3b/4fd8c534f6c0d1b80ce0973d01331525538045084c73c153ee6df20224cf/face_recognition_models-0.3.0.tar.gz (100.1MB)\n",
            "\u001b[K     |████████████████████████████████| 100.2MB 42kB/s \n",
            "\u001b[?25hRequirement already satisfied: dlib>=19.7 in /usr/local/lib/python3.6/dist-packages (from face_recognition) (19.18.0)\n",
            "Requirement already satisfied: Click>=6.0 in /usr/local/lib/python3.6/dist-packages (from face_recognition) (7.1.2)\n",
            "Requirement already satisfied: numpy in /usr/local/lib/python3.6/dist-packages (from face_recognition) (1.18.5)\n",
            "Building wheels for collected packages: face-recognition-models\n",
            "  Building wheel for face-recognition-models (setup.py) ... \u001b[?25l\u001b[?25hdone\n",
            "  Created wheel for face-recognition-models: filename=face_recognition_models-0.3.0-py2.py3-none-any.whl size=100566172 sha256=c602a3bfce68058f50ba7db46b68b6cf64a319531746cd0d61bd1d82dba55ed9\n",
            "  Stored in directory: /root/.cache/pip/wheels/d2/99/18/59c6c8f01e39810415c0e63f5bede7d83dfb0ffc039865465f\n",
            "Successfully built face-recognition-models\n",
            "Installing collected packages: face-recognition-models, face-recognition\n",
            "Successfully installed face-recognition-1.3.0 face-recognition-models-0.3.0\n"
          ],
          "name": "stdout"
        }
      ]
    },
    {
      "cell_type": "code",
      "metadata": {
        "id": "TiStff6pfB52",
        "colab_type": "code",
        "colab": {}
      },
      "source": [
        "import keras\n",
        "import tensorflow as tf\n",
        "import dlib, cv2, os \n",
        "from imutils import face_utils # imutils : 이미지  처리, dlib shape -> numpy ndarray로 자동변환\n",
        "import numpy as np\n",
        "import pandas  as pd\n",
        "import matplotlib.pyplot as plt\n",
        "import os\n",
        "import csv"
      ],
      "execution_count": 9,
      "outputs": []
    },
    {
      "cell_type": "markdown",
      "metadata": {
        "id": "W7mU8rlGft2o",
        "colab_type": "text"
      },
      "source": [
        "# Data Preprocessing"
      ]
    },
    {
      "cell_type": "code",
      "metadata": {
        "id": "PThCa36TfscU",
        "colab_type": "code",
        "colab": {}
      },
      "source": [
        "def each_folder_landmark(DOG_FOLDER_PATH):\n",
        "\n",
        "    ##### Load Model #####\n",
        "    detector = dlib.cnn_face_detection_model_v1('/content/drive/My Drive/Cap/dogHeadDetector.dat')\n",
        "    predictor = dlib.shape_predictor('/content/drive/My Drive/Cap/landmarkDetector.dat')\n",
        "\n",
        "    ##### Load Image #####\n",
        "    dog_folder_path = DOG_FOLDER_PATH\n",
        "    dog_folder_list = os.listdir(dog_folder_path)\n",
        "    dog_folder_list.sort()\n",
        "    \n",
        "    landmarks = {}\n",
        "    for f in dog_folder_list:\n",
        "        img_path = dog_folder_path + '/' + f\n",
        "        img = cv2.imread(img_path)\n",
        "        index = str(f.split('.')[0]) \n",
        "        img = cv2.cvtColor(img, cv2.COLOR_BGR2RGB)\n",
        "\n",
        "        ##### Detect Face #####\n",
        "        dets = detector(img, upsample_num_times=1)\n",
        "        img_result = img.copy()\n",
        "\n",
        "        for i, d in enumerate(dets):\n",
        "            #print(\"Detection {}: Left: {} Top: {} Right: {} Bottom: {} Confidence: {}\".format(i, d.rect.left(), d.rect.top(), d.rect.right(), d.rect.bottom(), d.confidence))\n",
        "            x1, y1 = d.rect.left(), d.rect.top()\n",
        "            x2, y2 = d.rect.right(), d.rect.bottom()\n",
        "            cv2.rectangle(img_result, pt1=(x1, y1), pt2=(x2, y2), thickness=2, color=(255,0,0), lineType=cv2.LINE_AA)\n",
        "        \n",
        "        \n",
        "        ##### Detect Landmarks #####\n",
        "        for i, d in enumerate(dets):\n",
        "            shape = predictor(img, d.rect) # detect in range of d.rect \n",
        "            shape = face_utils.shape_to_np(shape)\n",
        "            shape = shape.reshape(-1) # x0 y0 x1 y1 x2 y2 x3 y3 x4 y4 x5 y5 \n",
        "           \n",
        "            ##### Save CSV #####\n",
        "            id = str(landmarks.keys())\n",
        "            df = pd.DataFrame(shape, index=['x0','y0','x1','y1','x2','y2','x3','y3','x4','y4','x5','y5'])\n",
        "            df = df.T\n",
        "        \n",
        "            \n",
        "            with open(TOTAL_FOLDER_PATH + '/train_landmark.csv','a',newline='') as file :\n",
        "                writer = csv.writer(file)\n",
        "                writer.writerow(shape)"
      ],
      "execution_count": 10,
      "outputs": []
    },
    {
      "cell_type": "markdown",
      "metadata": {
        "id": "Y-gfXh4bgJOc",
        "colab_type": "text"
      },
      "source": [
        "# Main"
      ]
    },
    {
      "cell_type": "code",
      "metadata": {
        "id": "8QO-_mjJgIor",
        "colab_type": "code",
        "colab": {}
      },
      "source": [
        "DOG_FOLDER_PATH = '/content/drive/My Drive/Cap/data/real/train/zzo'\n",
        "TOTAL_FOLDER_PATH = '/content/drive/My Drive/Cap/data/real'\n",
        "\n",
        "\n",
        "with open(TOTAL_FOLDER_PATH + '/train_landmark.csv','w',newline='') as file :\n",
        "      writer = csv.writer(file)\n",
        "      writer.writerow(['x0','y0','x1','y1','x2','y2','x3','y3','x4','y4','x5','y5'])\n",
        "    \n",
        "zzo_folder_landmark = each_folder_landmark(DOG_FOLDER_PATH)"
      ],
      "execution_count": 12,
      "outputs": []
    }
  ]
}