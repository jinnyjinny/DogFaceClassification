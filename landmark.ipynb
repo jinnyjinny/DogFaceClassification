{
  "nbformat": 4,
  "nbformat_minor": 0,
  "metadata": {
    "colab": {
      "name": "landmark.ipynb",
      "provenance": [],
      "collapsed_sections": [],
      "mount_file_id": "1LlNPT1aZ7ANeM7KDP43X-o_PjRxNdv2f",
      "authorship_tag": "ABX9TyMY796pV2I5VqtqG3ORIVcJ",
      "include_colab_link": true
    },
    "kernelspec": {
      "name": "python3",
      "display_name": "Python 3"
    },
    "accelerator": "GPU"
  },
  "cells": [
    {
      "cell_type": "markdown",
      "metadata": {
        "id": "view-in-github",
        "colab_type": "text"
      },
      "source": [
        "<a href=\"https://colab.research.google.com/github/jinnyjinny/DogFaceClassification/blob/master/landmark.ipynb\" target=\"_parent\"><img src=\"https://colab.research.google.com/assets/colab-badge.svg\" alt=\"Open In Colab\"/></a>"
      ]
    },
    {
      "cell_type": "markdown",
      "metadata": {
        "id": "OFvh6RZishm2",
        "colab_type": "text"
      },
      "source": [
        "- GPU 가속기에서 코드 실행 (CPU에서 실행 불가)"
      ]
    },
    {
      "cell_type": "code",
      "metadata": {
        "id": "sJcBq3bAndtP",
        "colab_type": "code",
        "colab": {
          "base_uri": "https://localhost:8080/",
          "height": 303
        },
        "outputId": "84ebf9c7-8529-4bf9-d507-fa825150e389"
      },
      "source": [
        "!pip install face_recognition"
      ],
      "execution_count": null,
      "outputs": [
        {
          "output_type": "stream",
          "text": [
            "Collecting face_recognition\n",
            "  Downloading https://files.pythonhosted.org/packages/1e/95/f6c9330f54ab07bfa032bf3715c12455a381083125d8880c43cbe76bb3d0/face_recognition-1.3.0-py2.py3-none-any.whl\n",
            "Collecting face-recognition-models>=0.3.0\n",
            "\u001b[?25l  Downloading https://files.pythonhosted.org/packages/cf/3b/4fd8c534f6c0d1b80ce0973d01331525538045084c73c153ee6df20224cf/face_recognition_models-0.3.0.tar.gz (100.1MB)\n",
            "\u001b[K     |████████████████████████████████| 100.2MB 42kB/s \n",
            "\u001b[?25hRequirement already satisfied: Click>=6.0 in /usr/local/lib/python3.6/dist-packages (from face_recognition) (7.1.2)\n",
            "Requirement already satisfied: dlib>=19.7 in /usr/local/lib/python3.6/dist-packages (from face_recognition) (19.18.0)\n",
            "Requirement already satisfied: numpy in /usr/local/lib/python3.6/dist-packages (from face_recognition) (1.18.5)\n",
            "Requirement already satisfied: Pillow in /usr/local/lib/python3.6/dist-packages (from face_recognition) (7.0.0)\n",
            "Building wheels for collected packages: face-recognition-models\n",
            "  Building wheel for face-recognition-models (setup.py) ... \u001b[?25l\u001b[?25hdone\n",
            "  Created wheel for face-recognition-models: filename=face_recognition_models-0.3.0-py2.py3-none-any.whl size=100566172 sha256=9df9d7353938cf144411cf5a0ba5da929bde265cfb4cfc0bec18f7c6b309268d\n",
            "  Stored in directory: /root/.cache/pip/wheels/d2/99/18/59c6c8f01e39810415c0e63f5bede7d83dfb0ffc039865465f\n",
            "Successfully built face-recognition-models\n",
            "Installing collected packages: face-recognition-models, face-recognition\n",
            "Successfully installed face-recognition-1.3.0 face-recognition-models-0.3.0\n"
          ],
          "name": "stdout"
        }
      ]
    },
    {
      "cell_type": "code",
      "metadata": {
        "id": "U4S7W4ktnb2Q",
        "colab_type": "code",
        "colab": {
          "base_uri": "https://localhost:8080/",
          "height": 316
        },
        "outputId": "64b852d8-a044-4053-cf5e-fbc8cba717e1"
      },
      "source": [
        "import keras\n",
        "import tensorflow as tf\n",
        "import dlib, cv2, os \n",
        "from imutils import face_utils # imutils : 이미지  처리, dlib shape -> numpy ndarray로 자동변환\n",
        "import numpy as np\n",
        "import matplotlib.pyplot as plt\n",
        "import os\n",
        "\n",
        "\n",
        "\n",
        "##### Load Model #####\n",
        "detector = dlib.cnn_face_detection_model_v1('/content/drive/My Drive/Cap/dogHeadDetector.dat')\n",
        "predictor = dlib.shape_predictor('/content/drive/My Drive/Cap/landmarkDetector.dat')\n",
        "\n",
        "##### Load Image #####\n",
        "total_folder_path = '/content/drive/My Drive/Cap/data/real/train'\n",
        "total_folder_list = os.listdir(total_folder_path)\n",
        "\n",
        "for f in total_folder_list:\n",
        "    folder_path = total_folder_path + '/' + f\n",
        "    print(\"Processing: \" + f)\n",
        "    file_list = os.listdir(folder_path)\n",
        "    file_list.sort()\n",
        "\n",
        "    for f in file_list:\n",
        "        img_path = folder_path + '/' + f\n",
        "        img = cv2.imread(img_path)\n",
        "        index = str(f.split('.')[0]) \n",
        "        img = cv2.cvtColor(img, cv2.COLOR_BGR2RGB)\n",
        "\n",
        "        ##### Detect Face #####\n",
        "        dets = detector(img, upsample_num_times=1)\n",
        "        img_result = img.copy()\n",
        "\n",
        "        for i, d in enumerate(dets):\n",
        "            #print(\"Detection {}: Left: {} Top: {} Right: {} Bottom: {} Confidence: {}\".format(i, d.rect.left(), d.rect.top(), d.rect.right(), d.rect.bottom(), d.confidence))\n",
        "            x1, y1 = d.rect.left(), d.rect.top()\n",
        "            x2, y2 = d.rect.right(), d.rect.bottom()\n",
        "            cv2.rectangle(img_result, pt1=(x1, y1), pt2=(x2, y2), thickness=2, color=(255,0,0), lineType=cv2.LINE_AA)\n",
        "        \n",
        "        ##### Detect Landmarks #####\n",
        "        for i, d in enumerate(dets):\n",
        "            shape = predictor(img, d.rect) # detect in range of d.rect \n",
        "            shape = face_utils.shape_to_np(shape)\n",
        "            reshape = shape.reshape(-1) # x0 y0 x1 y1 x2 y2 x3 y3 x4 y4 x5 y5 \n",
        "            print(index,reshape)\n",
        "            # print(\"Image Index{}: Landmarks: {}\".format(i, reshape))"
      ],
      "execution_count": null,
      "outputs": [
        {
          "output_type": "stream",
          "text": [
            "Using TensorFlow backend.\n"
          ],
          "name": "stderr"
        },
        {
          "output_type": "stream",
          "text": [
            "Processing: zzo\n",
            "zzo_1 [268  85 341 119 327 242 275 356 187 100 205 225]\n",
            "zzo_2 [155 115 177 124 180 170 145 206 126 113 122 163]\n",
            "zzo_3 [202  76 247  94 210 151 140 197 158  88 147 144]\n",
            "zzo_4 [236 192 262 202 235 232 176 259 213 195 193 227]\n",
            "zzo_5 [315  75 361  86 354 147 315 201 267  78 269 141]\n",
            "Processing: hugi\n",
            "hugi_1 [534 162 633 183 597 334 538 401 440 184 465 336]\n",
            "hugi_2 [441 119 521 167 457 260 392 293 353 130 365 228]\n",
            "hugi_3 [516 251 604 287 551 376 490 405 423 267 445 359]\n",
            "hugi_4 [287 149 423 166 392 281 313 374 179 231 240 340]\n",
            "hugi_5 [408 345 448 358 432 407 412 435 367 355 384 404]\n",
            "Processing: jeolmi\n",
            "jeolmi_2 [234  48 287  50 293 120 271 182 182  62 204 131]\n",
            "jeolmi_3 [269  17 355  49 324  96 248 150 186  55 211  99]\n",
            "jeolmi_4 [243  51 294  56 294 142 265 216 189  57 205 146]\n",
            "jeolmi_5 [440   7 580  56 577 192 565 279 274  35 379 176]\n"
          ],
          "name": "stdout"
        }
      ]
    }
  ]
}